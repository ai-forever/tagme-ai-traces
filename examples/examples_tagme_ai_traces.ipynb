{
  "cells": [
    {
      "cell_type": "code",
      "execution_count": 1,
      "id": "fcba3ba3",
      "metadata": {
        "id": "fcba3ba3"
      },
      "outputs": [],
      "source": [
        "import os\n",
        "from os import environ\n",
        "from typing import cast\n",
        "from dotenv import load_dotenv, find_dotenv\n",
        "import getpass\n",
        "\n",
        "from langchain_chroma import Chroma\n",
        "from langchain_core.documents import Document\n",
        "from langchain_core.language_models import LanguageModelInput\n",
        "from langchain_core.prompts import ChatPromptTemplate\n",
        "from langchain_core.runnables import RunnableLambda, RunnablePassthrough\n",
        "from langchain_gigachat.chat_models import GigaChat\n",
        "from langchain_gigachat.embeddings import GigaChatEmbeddings\n",
        "from langchain_core.messages import BaseMessage"
      ]
    },
    {
      "cell_type": "markdown",
      "id": "d6eddca6",
      "metadata": {
        "id": "d6eddca6"
      },
      "source": [
        "## Примеры использования `tagme_ai_traces`\n"
      ]
    },
    {
      "cell_type": "markdown",
      "id": "yaMjSMg4dphh",
      "metadata": {
        "id": "yaMjSMg4dphh"
      },
      "source": [
        "## Оглавление"
      ]
    },
    {
      "cell_type": "markdown",
      "id": "9WMQe2CbdZt7",
      "metadata": {
        "colab_type": "toc",
        "id": "9WMQe2CbdZt7"
      },
      "source": [
        "[Примеры использования tagme\\_ai\\_traces](#scrollTo=d6eddca6)\n",
        "\n",
        "> [Оглавление](#scrollTo=293c899b)\n",
        "\n",
        "> [init](#scrollTo=a945d530) — установка, переменные окружения, проверка токенов.\n",
        "\n",
        "> [Клиент TagMeTrace](#scrollTo=37d22962) — низкоуровневый HTTP-клиент для отправки/получения данных.\n",
        ">\n",
        "> > [1.1. Отправка диалогов](#scrollTo=e55f7bba) — как упаковать `DialogData` и отправить.\n",
        "> >\n",
        "> > [1.2. Отправка описания функции (tool / инструмента)](#scrollTo=8820b48a) — регистрация `FunctionDef` для function-calling.\n",
        "> >\n",
        "> > [1.3. Получение статистики и результатов разметки](#scrollTo=bcb8ea20) — чтение метрик/результатов для анализа.\n",
        "\n",
        "> [Использование TagMeAgentTracer - langchain callback handler](#scrollTo=84e58084) — автоматический сбор диалогов и функций из коллбеков.\n",
        ">\n",
        "> > [Пример 1: Интерактивный агент (ReAct) с последовательной историей диалога](#scrollTo=7c989c20) — сохраняем весь ход агентного шага.\n",
        "> >\n",
        "> > [Пример 2: Вызов функции-инструмента внутри диалога](#scrollTo=31364e9e) — трассируем function call → tool result → финальный ответ.\n",
        "> >\n",
        "> > [Пример 3: Интеграция трейсера в RAG-цепочку (Retrieval-Augmented Generation)](#scrollTo=4bcfc7ad) — подключение к `retriever|prompt|LLM`.\n",
        "\n",
        "> [Использование декораторов на примере цепочки RAG для генерации ответа модели с использованием RAG](#scrollTo=06cdc7be) — как обернуть вызовы и слать данные автоматически.\n",
        ">\n",
        "> > [3.1 Асинхронный декоратор](#scrollTo=669e177d) — для `.ainvoke()`.\n",
        "> >\n",
        "> > [3.2. Синхронный декоратор](#scrollTo=6f361025) — для `.invoke()`.\n",
        "> >\n",
        "> > [Функция для преобразования диалога](#scrollTo=6486cfc0) — если оборачиваем что-то нетипичное.\n"
      ]
    },
    {
      "cell_type": "markdown",
      "id": "a945d530",
      "metadata": {
        "id": "a945d530"
      },
      "source": [
        "### init\n"
      ]
    },
    {
      "cell_type": "markdown",
      "id": "0e48a095",
      "metadata": {
        "id": "0e48a095"
      },
      "source": [
        "Установка `tagme_ai_traces`\n"
      ]
    },
    {
      "cell_type": "code",
      "execution_count": null,
      "id": "5c70e371",
      "metadata": {
        "id": "5c70e371"
      },
      "outputs": [],
      "source": [
        "# %pip install .."
      ]
    },
    {
      "cell_type": "markdown",
      "id": "87d1b307",
      "metadata": {
        "id": "87d1b307"
      },
      "source": [
        "Для работы нужны базовый url и токен.\n",
        "\n",
        "Можем передавать в клиенты, декораторы и трейсеры как аргументы, а можем указать переменные окружения TAGME_TOKEN и TAGME_BASE_URL\n",
        "\n",
        "<span style=\"color: gray\">*токен в примерах тестовый, и не будет работать. для получения собственного токена обратитесь к dmpresnukhin@sberbank.ru*</span>"
      ]
    },
    {
      "cell_type": "code",
      "execution_count": null,
      "id": "801eb9a7",
      "metadata": {
        "id": "801eb9a7"
      },
      "outputs": [],
      "source": [
        "load_dotenv(find_dotenv())\n",
        "\n",
        "token = os.environ.get(\"TAGME_TOKEN\", \"d6594992-4348-44f7-a5b6-6092d11730e6\")\n",
        "base_url = os.environ.get(\"TAGME_BASE_URL\", \"https://tagme.sberdevices.ru/dev/chatwm/plugin_statistics/trace\")"
      ]
    },
    {
      "cell_type": "markdown",
      "id": "12f22bbc",
      "metadata": {
        "id": "12f22bbc"
      },
      "source": [
        "Можем в юпитере вот так прописать env\n"
      ]
    },
    {
      "cell_type": "code",
      "execution_count": null,
      "id": "6b45ea2d",
      "metadata": {
        "id": "6b45ea2d",
        "outputId": "a1fb85af-1fc5-4856-95d2-269ef340355b"
      },
      "outputs": [
        {
          "name": "stdout",
          "output_type": "stream",
          "text": [
            "env: TAGME_TOKEN=d6594992-4348-44f7-a5b6-6092d11730e6\n",
            "env: TAGME_BASE_URL=http://localhost:8000/\n"
          ]
        }
      ],
      "source": [
        "%set_env TAGME_TOKEN=d6594992-4348-44f7-a5b6-6092d11730e6\n",
        "%set_env TAGME_BASE_URL=https://tagme.sberdevices.ru/dev/chatwm/plugin_statistics/trace"
      ]
    },
    {
      "cell_type": "markdown",
      "id": "64229166",
      "metadata": {
        "id": "64229166"
      },
      "source": [
        "В качестве подопытной LLM конечно же используем GigaChat. В приведенных примерах для доступа я использую токен\n"
      ]
    },
    {
      "cell_type": "code",
      "execution_count": null,
      "id": "99f466a2",
      "metadata": {
        "id": "99f466a2"
      },
      "outputs": [],
      "source": [
        "if \"GIGACHAT_CREDENTIALS\" not in os.environ:\n",
        "    os.environ[\"GIGACHAT_CREDENTIALS\"] = getpass.getpass(\"Введите ключ авторизации GigaChat API: \")"
      ]
    },
    {
      "cell_type": "markdown",
      "id": "56693d1c",
      "metadata": {
        "id": "56693d1c"
      },
      "source": [
        "Для наглядности выведем логи на уровень INFO (чтобы видеть сообщения logger.info, которые появляются при сохранении диалога, и при необходимости можно установить DEBUG, но там будет много данных от запросов к API)\n"
      ]
    },
    {
      "cell_type": "code",
      "execution_count": null,
      "id": "812f6fcf",
      "metadata": {
        "id": "812f6fcf"
      },
      "outputs": [],
      "source": [
        "import logging\n",
        "\n",
        "# logging.basicConfig(level=logging.DEBUG, format=\"[%(levelname)s](%(name)s): %(message)s\")\n",
        "logging.basicConfig(level=logging.INFO, format=\"[%(levelname)s](%(name)s): %(message)s\")"
      ]
    },
    {
      "cell_type": "markdown",
      "id": "37d22962",
      "metadata": {
        "id": "37d22962"
      },
      "source": [
        "### 1. Клиент TagMeTrace <a name=\"client\"></a>\n",
        "\n",
        "Базовый клиент для отправки данных - TagmeIntegrationClientAsync и его синхронная версия TagmeIntegrationClientSync\n"
      ]
    },
    {
      "cell_type": "code",
      "execution_count": null,
      "id": "b79e4f68",
      "metadata": {
        "id": "b79e4f68"
      },
      "outputs": [],
      "source": [
        "from tagme_ai_traces import TagmeIntegrationClientAsync  # , TagmeIntegrationClientSync\n",
        "\n",
        "\n",
        "tagme_trace_client = TagmeIntegrationClientAsync(\n",
        "    token=token,  # передаём токен или используем env TAGME_TOKEN\n",
        "    base_url=base_url,  # передаём base_url или используем env TAGME_BASE_URL\n",
        "    ignore_missing_functions=True,  # не вызываеть ошибки, если в диалоге содержится функция, описание которой заранее не было отправлено на сервер\n",
        ")"
      ]
    },
    {
      "cell_type": "markdown",
      "id": "e55f7bba",
      "metadata": {
        "id": "e55f7bba"
      },
      "source": [
        "#### 1.1. Отправка диалогов\n",
        "\n",
        "Клиент принимает диалоги в виде датаклассов `DialogData`\n"
      ]
    },
    {
      "cell_type": "code",
      "execution_count": null,
      "id": "3cab3ee2",
      "metadata": {
        "id": "3cab3ee2"
      },
      "outputs": [],
      "source": [
        "from tagme_ai_traces.entities import DialogData\n",
        "\n",
        "\n",
        "dialog_delete_alarm = DialogData.from_dict(\n",
        "    {\n",
        "        \"input\": [\n",
        "            {\"role\": \"system\", \"content\": \"You are a smart home assistant.\"},\n",
        "            {\"role\": \"user\", \"content\": \"Удалите будильник на 7 утра.\"},\n",
        "            {\n",
        "                \"role\": \"assistant\",\n",
        "                \"content\": None,\n",
        "                \"function_call\": {\"name\": \"delete_alarm_unknown\", \"arguments\": {\"time\": \"07:00\"}},\n",
        "            },\n",
        "            {\n",
        "                \"role\": \"function\",\n",
        "                \"content\": None,\n",
        "                \"function_result\": {\"name\": \"delete_alarm_unknown\", \"result\": {\"status\": \"success\"}},\n",
        "            },\n",
        "            {\"role\": \"assistant\", \"content\": \"Будильник на 7:00 удалён.\"},\n",
        "        ],\n",
        "        \"metadata\": {\"test\": \"delete_alarm_unknown\"},\n",
        "    }\n",
        ")"
      ]
    },
    {
      "cell_type": "code",
      "execution_count": null,
      "id": "0640ea05",
      "metadata": {
        "id": "0640ea05",
        "outputId": "a15624f7-2944-41ef-801d-4427cb2c78e1"
      },
      "outputs": [
        {
          "data": {
            "text/plain": [
              "[ChatMessage(role='system', content='You are a smart home assistant.', function_call=None, function_result=None),\n",
              " ChatMessage(role='user', content='Удалите будильник на 7 утра.', function_call=None, function_result=None),\n",
              " ChatMessage(role='assistant', content=None, function_call=FunctionCall(name='delete_alarm_unknown', arguments={'time': '07:00'}), function_result=None),\n",
              " ChatMessage(role='function', content=None, function_call=None, function_result=FunctionResult(name='delete_alarm_unknown', result={'status': 'success'})),\n",
              " ChatMessage(role='assistant', content='Будильник на 7:00 удалён.', function_call=None, function_result=None)]"
            ]
          },
          "execution_count": 49,
          "metadata": {},
          "output_type": "execute_result"
        }
      ],
      "source": [
        "dialog_delete_alarm.input"
      ]
    },
    {
      "cell_type": "code",
      "execution_count": null,
      "id": "beae57c8",
      "metadata": {
        "id": "beae57c8",
        "outputId": "1470f1f9-f740-429c-c7f2-7d4d073483a1"
      },
      "outputs": [
        {
          "data": {
            "text/plain": [
              "{'id': '2de5dc36-0b47-464c-81b7-c7f0c718db22',\n",
              " 'missing': ['delete_alarm_unknown'],\n",
              " 'linked_functions': [],\n",
              " 'warning': True}"
            ]
          },
          "execution_count": 52,
          "metadata": {},
          "output_type": "execute_result"
        }
      ],
      "source": [
        "await tagme_trace_client.send_dialog(dialog_delete_alarm)"
      ]
    },
    {
      "cell_type": "markdown",
      "id": "3b64b237",
      "metadata": {
        "id": "3b64b237"
      },
      "source": [
        "Получили в выводе информацию, что мы передали диалог с вызовом функции, которой нет в диалоге. К сожалению, разметчики уже не увидят информацию про эту функцию. Все определения нужно отправлять заранее\n"
      ]
    },
    {
      "cell_type": "markdown",
      "id": "8820b48a",
      "metadata": {
        "id": "8820b48a"
      },
      "source": [
        "#### 1.2. Отправка описания функции (tool / инструмента)\n"
      ]
    },
    {
      "cell_type": "code",
      "execution_count": null,
      "id": "117f267d",
      "metadata": {
        "id": "117f267d"
      },
      "outputs": [],
      "source": [
        "function_delete_alarm = {\n",
        "    \"name\": \"delete_alarm_unknown\",\n",
        "    \"description\": \"Функция удаления будильника по id. Данная функция запускается только при наличии необходимых идентификаторов id будильников в контексте. Если пользователь явно не передал id будильника, то получи метаинформацию об установленных будильниках, вызвав сначала соответствую функцию и только затем используй функцию удаления по id. Если пользователь просит удалить все будильники и в контексте диалога есть необходимые id или пользователь явно передает id будильника, который надо удалить, то вызови эту функцию, переспрашивать пользователя не нужно. В остальных случаях, при наличии необходимых id в контексте диалога и готовности удалить будильник, сначала переспроси пользователя подтверждает ли он удаление будильника и вызывай функцию только при наличии подтверждения от пользователя.\",\n",
        "    \"parameters\": {\n",
        "        \"properties\": {\n",
        "            \"ids\": {\n",
        "                \"description\": \"Список id будильников, которые нужно удалить\",\n",
        "                \"items\": {\"description\": \"Идентификатор id будильника, который нужно удалить\", \"type\": \"string\"},\n",
        "                \"type\": \"array\",\n",
        "            }\n",
        "        },\n",
        "        \"required\": [\"ids\"],\n",
        "        \"type\": \"object\",\n",
        "    },\n",
        "    \"return_parameters\": {\n",
        "        \"description\": \"Ответ на delete_alarm\",\n",
        "        \"properties\": {\n",
        "            \"error\": {\"description\": \"Текст ошибки в случае, если status == fail\", \"type\": \"string\"},\n",
        "            \"ids\": {\n",
        "                \"description\": \"Список id будильников, которые удалились\",\n",
        "                \"items\": {\"description\": \"Идентификатор id будильника, который удалился\", \"type\": \"string\"},\n",
        "                \"type\": \"array\",\n",
        "            },\n",
        "            \"status\": {\n",
        "                \"description\": \"Статус - удалось ли удалить будильник.\",\n",
        "                \"type\": \"string\",\n",
        "                \"enum\": [\"success\", \"fail\"],\n",
        "            },\n",
        "        },\n",
        "        \"required\": [\"status\"],\n",
        "        \"type\": \"object\",\n",
        "    },\n",
        "    \"few_shot_examples\": [],\n",
        "}"
      ]
    },
    {
      "cell_type": "code",
      "execution_count": null,
      "id": "f64d1e9f",
      "metadata": {
        "id": "f64d1e9f",
        "outputId": "41ae87cb-67e7-406a-99ff-84e316106685"
      },
      "outputs": [
        {
          "data": {
            "text/plain": [
              "{'results': [{'name': 'delete_alarm_unknown',\n",
              "   'id': 5,\n",
              "   'version': 1,\n",
              "   'status': 'created'}]}"
            ]
          },
          "execution_count": 54,
          "metadata": {},
          "output_type": "execute_result"
        }
      ],
      "source": [
        "from tagme_ai_traces.entities import FunctionDef\n",
        "\n",
        "\n",
        "await tagme_trace_client.send_functions(functions=[FunctionDef.from_dict(function_delete_alarm)])"
      ]
    },
    {
      "cell_type": "markdown",
      "id": "f68ca0ad",
      "metadata": {
        "id": "f68ca0ad"
      },
      "source": [
        "Отлично, функция отправлена, теперь в последующих диалогах разметчики будут видеть её описание\n"
      ]
    },
    {
      "cell_type": "markdown",
      "id": "66bbfd7f",
      "metadata": {
        "id": "66bbfd7f"
      },
      "source": [
        "Отправим ещё один диалог с этой функцией\n"
      ]
    },
    {
      "cell_type": "code",
      "execution_count": null,
      "id": "05fd8650",
      "metadata": {
        "id": "05fd8650",
        "outputId": "cb59a10a-e469-45d0-88cf-22aa26e61f22"
      },
      "outputs": [
        {
          "data": {
            "text/plain": [
              "{'id': '25e0d234-7cd5-470d-9162-fead63ec572e',\n",
              " 'missing': [],\n",
              " 'linked_functions': [{'id': 5, 'name': 'delete_alarm_unknown', 'version': 1}],\n",
              " 'warning': False}"
            ]
          },
          "execution_count": 55,
          "metadata": {},
          "output_type": "execute_result"
        }
      ],
      "source": [
        "await tagme_trace_client.send_dialog(dialog_delete_alarm)"
      ]
    },
    {
      "cell_type": "markdown",
      "id": "1919793e",
      "metadata": {
        "id": "1919793e"
      },
      "source": [
        "Видим, что к новому диалогу привязалась функция, и теперь разметчики увидят её описание\n"
      ]
    },
    {
      "cell_type": "code",
      "execution_count": null,
      "id": "60fecd4d",
      "metadata": {
        "id": "60fecd4d",
        "outputId": "92dd9305-1245-4002-f6d2-36542d11f0d0"
      },
      "outputs": [
        {
          "data": {
            "text/plain": [
              "{'results': [{'name': 'get_weather',\n",
              "   'id': 6,\n",
              "   'version': 1,\n",
              "   'status': 'created'}]}"
            ]
          },
          "execution_count": 57,
          "metadata": {},
          "output_type": "execute_result"
        }
      ],
      "source": [
        "from tagme_ai_traces import ChatMessage\n",
        "\n",
        "\n",
        "function_get_weather = FunctionDef.from_dict(\n",
        "    {\n",
        "        \"name\": \"get_weather\",\n",
        "        \"description\": \"Получение погоды в городе\",\n",
        "        \"parameters\": {\n",
        "            \"properties\": {\n",
        "                \"city\": {\n",
        "                    \"description\": \"Название города\",\n",
        "                    \"type\": \"string\",\n",
        "                }\n",
        "            },\n",
        "            \"required\": [\"city\"],\n",
        "            \"type\": \"object\",\n",
        "        },\n",
        "    }\n",
        ")\n",
        "\n",
        "await tagme_trace_client.send_functions([function_get_weather])"
      ]
    },
    {
      "cell_type": "code",
      "execution_count": null,
      "id": "ca656b2d",
      "metadata": {
        "id": "ca656b2d",
        "outputId": "72a71e39-c417-44fe-87aa-a1d2669bb4b6"
      },
      "outputs": [
        {
          "data": {
            "text/plain": [
              "{'id': '78061dd0-f3ef-45a3-bbfd-b74670854218',\n",
              " 'missing': [],\n",
              " 'linked_functions': [{'id': 6, 'name': 'get_weather', 'version': 1}],\n",
              " 'warning': False}"
            ]
          },
          "execution_count": 58,
          "metadata": {},
          "output_type": "execute_result"
        }
      ],
      "source": [
        "new_dialog = DialogData(\n",
        "    input=[\n",
        "        ChatMessage.from_dict({\"role\": \"user\", \"content\": \"Какая погода?\"}),\n",
        "        ChatMessage.from_dict(\n",
        "            {\n",
        "                \"role\": \"assistant\",\n",
        "                \"content\": None,\n",
        "                \"function_call\": {\"name\": \"get_weather\", \"arguments\": {\"city\": \"Moscow\"}},\n",
        "            }\n",
        "        ),\n",
        "        ChatMessage.from_dict(\n",
        "            {\n",
        "                \"role\": \"function\",\n",
        "                \"content\": None,\n",
        "                \"function_result\": {\"name\": \"get_weather\", \"result\": {\"temperature\": 20, \"condition\": \"sunny\"}},\n",
        "            }\n",
        "        ),\n",
        "        ChatMessage.from_dict({\"role\": \"assistant\", \"content\": \"В Москве сейчас 20 градусов и солнечно.\"}),\n",
        "    ]\n",
        ")\n",
        "await tagme_trace_client.send_dialog(new_dialog)"
      ]
    },
    {
      "cell_type": "markdown",
      "id": "7d670737",
      "metadata": {
        "id": "7d670737"
      },
      "source": [
        "Можем получить список всех функций, которые мы загружали\n"
      ]
    },
    {
      "cell_type": "code",
      "execution_count": null,
      "id": "8b640c4c",
      "metadata": {
        "id": "8b640c4c",
        "outputId": "549564cd-050a-4e98-cd71-99d3a922eee6"
      },
      "outputs": [
        {
          "data": {
            "text/plain": [
              "[FunctionResponse(id=5, name='delete_alarm_unknown', version=1, definition={'description': 'Функция удаления будильника по id. Данная функция запускается только при наличии необходимых идентификаторов id будильников в контексте. Если пользователь явно не передал id будильника, то получи метаинформацию об установленных будильниках, вызвав сначала соответствую функцию и только затем используй функцию удаления по id. Если пользователь просит удалить все будильники и в контексте диалога есть необходимые id или пользователь явно передает id будильника, который надо удалить, то вызови эту функцию, переспрашивать пользователя не нужно. В остальных случаях, при наличии необходимых id в контексте диалога и готовности удалить будильник, сначала переспроси пользователя подтверждает ли он удаление будильника и вызывай функцию только при наличии подтверждения от пользователя.', 'parameters': {'properties': {'ids': {'description': 'Список id будильников, которые нужно удалить', 'items': {'description': 'Идентификатор id будильника, который нужно удалить', 'type': 'string'}, 'type': 'array'}}, 'required': ['ids'], 'type': 'object'}, 'return_parameters': {'description': 'Ответ на delete_alarm', 'properties': {'error': {'description': 'Текст ошибки в случае, если status == fail', 'type': 'string'}, 'ids': {'description': 'Список id будильников, которые удалились', 'items': {'description': 'Идентификатор id будильника, который удалился', 'type': 'string'}, 'type': 'array'}, 'status': {'description': 'Статус - удалось ли удалить будильник.', 'type': 'string', 'enum': ['success', 'fail']}}, 'required': ['status'], 'type': 'object'}, 'few_shot_examples': []}, is_active=True, created_at='2025-09-23T23:17:07.452663'),\n",
              " FunctionResponse(id=6, name='get_weather', version=1, definition={'description': 'Получение погоды в городе', 'parameters': {'properties': {'city': {'description': 'Название города', 'type': 'string'}}, 'required': ['city'], 'type': 'object'}, 'return_parameters': None, 'few_shot_examples': None}, is_active=True, created_at='2025-09-23T23:41:05.780548')]"
            ]
          },
          "execution_count": 59,
          "metadata": {},
          "output_type": "execute_result"
        }
      ],
      "source": [
        "await tagme_trace_client.get_functions()"
      ]
    },
    {
      "cell_type": "markdown",
      "id": "bcb8ea20",
      "metadata": {
        "id": "bcb8ea20"
      },
      "source": [
        "#### 1.3. Получение статистики и результатов разметки\n"
      ]
    },
    {
      "cell_type": "markdown",
      "id": "b0d7e46f",
      "metadata": {
        "id": "b0d7e46f"
      },
      "source": [
        "Клиент поддерживает ряд методов для получения результатов разметки и аггрегированных результатов.\n",
        "\n",
        "Сейчас здесь данные из тестового проекта, реальные оцениваемые в диалоге метрики будут отличаться. Преобразование в датаклассы и фильтрация пока в разработке\n"
      ]
    },
    {
      "cell_type": "markdown",
      "id": "22695820",
      "metadata": {
        "id": "22695820"
      },
      "source": [
        "Получение метрик разметки по дням\n"
      ]
    },
    {
      "cell_type": "code",
      "execution_count": null,
      "id": "f12e2918",
      "metadata": {
        "id": "f12e2918",
        "outputId": "683bdebf-6a81-446d-aee5-f8480f0157c2"
      },
      "outputs": [
        {
          "data": {
            "text/plain": [
              "[{'date': '2025-09-23T00:00:00Z',\n",
              "  'metrics': {'beauty': 1.0,\n",
              "   'literacy': 1.5,\n",
              "   'criteria_1': 1.0,\n",
              "   'criteria_2': 1.0,\n",
              "   'criteria_3': 1.0,\n",
              "   'impression': 5.0}}]"
            ]
          },
          "execution_count": 67,
          "metadata": {},
          "output_type": "execute_result"
        }
      ],
      "source": [
        "await tagme_trace_client.get_markup_quality()"
      ]
    },
    {
      "cell_type": "markdown",
      "id": "d31931a3",
      "metadata": {
        "id": "d31931a3"
      },
      "source": [
        "Получние статистики размеченных диалогов\n"
      ]
    },
    {
      "cell_type": "code",
      "execution_count": null,
      "id": "5465f1ff",
      "metadata": {
        "id": "5465f1ff",
        "outputId": "73b99d82-b0b9-4bfd-e1a6-d1663863dc22"
      },
      "outputs": [
        {
          "data": {
            "text/plain": [
              "{'task_id': '997584b8-25a5-4948-9235-f41022c979d5',\n",
              " 'total_dialogs': 4,\n",
              " 'marked_dialogs': 2,\n",
              " 'total_markups': 2,\n",
              " 'accepted_markups': 2,\n",
              " 'overlap': 1}"
            ]
          },
          "execution_count": 63,
          "metadata": {},
          "output_type": "execute_result"
        }
      ],
      "source": [
        "await tagme_trace_client.get_markup_statistics()"
      ]
    },
    {
      "cell_type": "markdown",
      "id": "b039ca7d",
      "metadata": {
        "id": "b039ca7d"
      },
      "source": [
        "Получение сырых результатов разметки\n"
      ]
    },
    {
      "cell_type": "code",
      "execution_count": null,
      "id": "e3971d54",
      "metadata": {
        "id": "e3971d54",
        "outputId": "95a656bb-705b-447c-8a39-6010915bb037"
      },
      "outputs": [
        {
          "data": {
            "text/plain": [
              "[{'assignment_id': 'dd0f7218-ae2c-4c65-985e-90231857198c',\n",
              "  'dialog_id': '2de5dc36-0b47-464c-81b7-c7f0c718db22',\n",
              "  'payload': {'beauty': '1',\n",
              "   'output': [{'role': 'system',\n",
              "     'content': 'You are a smart home assistant.',\n",
              "     'function_call': None,\n",
              "     'function_result': None},\n",
              "    {'role': 'user',\n",
              "     'content': 'Удалите будильник на 7 утра.',\n",
              "     'function_call': None,\n",
              "     'function_result': None},\n",
              "    {'role': 'assistant',\n",
              "     'content': None,\n",
              "     'function_call': {'name': 'delete_alarm_unknown',\n",
              "      'arguments': {'time': '07:00'}},\n",
              "     'function_result': None},\n",
              "    {'role': 'function',\n",
              "     'content': None,\n",
              "     'function_call': None,\n",
              "     'function_result': {'name': 'delete_alarm_unknown',\n",
              "      'result': {'status': 'success'}}},\n",
              "    {'role': 'assistant',\n",
              "     'content': 'Будильник на 7:00 удалён.',\n",
              "     'function_call': None,\n",
              "     'function_result': None}],\n",
              "   'comment': 'Всё верно',\n",
              "   'literacy': '2',\n",
              "   'criteria_1': '1',\n",
              "   'criteria_2': '1',\n",
              "   'criteria_3': '1',\n",
              "   'impression': '5',\n",
              "   'status': 'ACCEPTED'},\n",
              "  'created_at': '2025-09-23T23:50:44.337651'},\n",
              " {'assignment_id': '7a79e7f9-357d-4174-b415-e54b5d63dd13',\n",
              "  'dialog_id': '9b107365-8787-441f-9986-920ca7f8818d',\n",
              "  'payload': {'beauty': '1',\n",
              "   'output': [{'role': 'user',\n",
              "     'content': \"\\nОтвечай на вопросы только с помощью полученного контекста.\\n\\nОпиши кошек одним словом\\n\\nКонтекст:\\n[Document(id='72ef06e9-68c3-4f8a-82da-a67cb07834e0', metadata={}, page_content='Кошки — независимые животные, которым нужно собственное пространство.')]\\n\",\n",
              "     'function_call': None,\n",
              "     'function_result': None},\n",
              "    {'role': 'assistant',\n",
              "     'content': 'не могу тебе помочь',\n",
              "     'function_call': None,\n",
              "     'function_result': None},\n",
              "    {'role': 'user',\n",
              "     'content': 'почему?',\n",
              "     'function_call': None,\n",
              "     'function_result': None},\n",
              "    {'role': 'assistant',\n",
              "     'content': 'Потому что заданный контекст содержит лишь описание характерной черты кошек: независимость и потребность в собственном пространстве. Одного слова недостаточно, чтобы полноценно описать всех кошек во всём многообразии их качеств и особенностей поведения. В контексте отсутствуют данные, позволяющие сделать однозначное обобщение кошачьего характера.',\n",
              "     'function_call': None,\n",
              "     'function_result': None}],\n",
              "   'comment': 'Хорошо выкрутился',\n",
              "   'literacy': '1',\n",
              "   'criteria_1': '1',\n",
              "   'criteria_2': '1',\n",
              "   'criteria_3': '1',\n",
              "   'impression': '5',\n",
              "   'status': 'ACCEPTED'},\n",
              "  'created_at': '2025-09-23T23:50:32.109127'}]"
            ]
          },
          "execution_count": 66,
          "metadata": {},
          "output_type": "execute_result"
        }
      ],
      "source": [
        "await tagme_trace_client.get_results()"
      ]
    },
    {
      "cell_type": "markdown",
      "id": "84e58084",
      "metadata": {
        "id": "84e58084"
      },
      "source": [
        "### 2. Использование `TagMeAgentTracer` - langchain callback handler\n",
        "\n",
        "Удобнее всего для отправки использовать `TagMeAgentTracer` - асинхронный обработчик событий. Он работает автоматически в разных сценариях: как при использовании агентов, так и при обычных вызовах `ainvoke`\n"
      ]
    },
    {
      "cell_type": "code",
      "execution_count": null,
      "id": "1de213f2",
      "metadata": {
        "id": "1de213f2"
      },
      "outputs": [],
      "source": [
        "from tagme_ai_traces import TagMeAgentTracer"
      ]
    },
    {
      "cell_type": "markdown",
      "id": "7c989c20",
      "metadata": {
        "id": "7c989c20"
      },
      "source": [
        "#### Пример 1: Интерактивный агент (ReAct) с последовательной историей диалога <a name=\"callbacks\"></a>\n",
        "\n",
        "Здесь мы будем использовать готовый ReAct-агент на базе GigaChat, который может планировать действия (вызовы инструментов) и отвечать пользователю.\n",
        "\n",
        "Для этого создадим агент с помощью утилиты `create_react_agent` из библиотеки `langgraph` и подключим к нему наш трейсер. Агенту передаются инструменты (например, функция `get_cats_info`) и механизм сохранения памяти (MemorySaver), чтобы он помнил предыдущие сообщения.\n"
      ]
    },
    {
      "cell_type": "code",
      "execution_count": null,
      "id": "ca59d701",
      "metadata": {
        "id": "ca59d701"
      },
      "outputs": [],
      "source": [
        "# Инициализация трейсера (verbose_send=True чтобы видеть событие сохранения на уровне INFO)\n",
        "agent_tracer = TagMeAgentTracer(\n",
        "    verbose_send=True,\n",
        "    client=tagme_trace_client,  # можем или передать client напрямую или args/kwargs для него\n",
        ")"
      ]
    },
    {
      "cell_type": "code",
      "execution_count": null,
      "id": "10c48d1b",
      "metadata": {
        "id": "10c48d1b"
      },
      "outputs": [],
      "source": [
        "from langchain.tools import tool\n",
        "\n",
        "\n",
        "@tool\n",
        "async def get_cats_info() -> str:\n",
        "    \"\"\"Возвращает справочную информацию о кошках.\"\"\"\n",
        "    print('\\x1b[32m\"Вызвана функция get_cats_info\"\\x1b[0m')\n",
        "    return \"Кошки известны своей независимостью и грациозностью.\""
      ]
    },
    {
      "cell_type": "code",
      "execution_count": null,
      "id": "b1c0c4c4",
      "metadata": {
        "id": "b1c0c4c4"
      },
      "outputs": [],
      "source": [
        "from langgraph.prebuilt import create_react_agent\n",
        "from langgraph.checkpoint.memory import MemorySaver\n",
        "\n",
        "\n",
        "system_prompt = \"Отвечай так, будто ты очень любишь кошек.\"\n",
        "\n",
        "# создадим model без коллбеков\n",
        "model_agent = GigaChat(model=\"GigaChat-2-Max\", verify_ssl_certs=False, scope=\"GIGACHAT_API_CORP\", callbacks=[])\n",
        "agent = create_react_agent(model_agent, tools=[get_cats_info], checkpointer=MemorySaver(), prompt=system_prompt)\n",
        "\n",
        "\n",
        "cfg: dict = {\n",
        "    \"run_name\": \"react_agent_demo\",\n",
        "    \"tags\": [\"langgraph\", \"demo\"],\n",
        "    \"metadata\": {\"env\": \"local\"},  # произвольные метаданные\n",
        "    \"callbacks\": [agent_tracer],  # подключаем трейсер в callbacks агента\n",
        "}"
      ]
    },
    {
      "cell_type": "markdown",
      "id": "51fa22b0",
      "metadata": {
        "id": "51fa22b0"
      },
      "source": [
        "**Важно!** Если в `config` останется `metadata.thread_id` при повторном запуске, то трейсер будет думать, что это всё тот же старый диалог, даже если в `configurable` новый uid. Трейсер при этом перезапишет все старые сообщения новыми и история и не сохранится, и не отправится.\n",
        "\n",
        "Если это нежелательное поведение, то следует убирать `thread_id` из `metadata` между разными диалогами или перезаписывать новым значением (как на примере)\n"
      ]
    },
    {
      "cell_type": "code",
      "execution_count": null,
      "id": "094ca401",
      "metadata": {
        "id": "094ca401",
        "outputId": "179ae69f-ad38-4f97-ec87-90e1f89f6087"
      },
      "outputs": [
        {
          "name": "stdout",
          "output_type": "stream",
          "text": [
            "thread_id = '792f964e-cd3a-455c-b75e-c0909d357699'\n"
          ]
        },
        {
          "name": "stderr",
          "output_type": "stream",
          "text": [
            "[INFO](httpx): HTTP Request: POST https://ngw.devices.sberbank.ru:9443/api/v2/oauth \"HTTP/1.1 200 OK\"\n"
          ]
        },
        {
          "name": "stdout",
          "output_type": "stream",
          "text": [
            "User:  Привет\n"
          ]
        },
        {
          "name": "stderr",
          "output_type": "stream",
          "text": [
            "[INFO](httpx): HTTP Request: POST https://gigachat.devices.sberbank.ru/api/v1/chat/completions \"HTTP/1.1 200 OK\"\n"
          ]
        },
        {
          "name": "stdout",
          "output_type": "stream",
          "text": [
            "Assistant:  Мррр, привет! А у тебя есть пушистый друг? Кошки — это самые замечательные создания на свете! Их мягкая шерстка и милые ушки просто очаровывают с первого взгляда. Расскажи мне больше про свою котейку или кота мечты!\n",
            "User:  Что ты знаешь о кошках? \n"
          ]
        },
        {
          "name": "stderr",
          "output_type": "stream",
          "text": [
            "[INFO](httpx): HTTP Request: POST https://gigachat.devices.sberbank.ru/api/v1/chat/completions \"HTTP/1.1 200 OK\"\n"
          ]
        },
        {
          "name": "stdout",
          "output_type": "stream",
          "text": [
            "\u001b[32m\"Вызвана функция get_cats_info\"\u001b[0m\n"
          ]
        },
        {
          "name": "stderr",
          "output_type": "stream",
          "text": [
            "[INFO](httpx): HTTP Request: POST https://gigachat.devices.sberbank.ru/api/v1/chat/completions \"HTTP/1.1 200 OK\"\n"
          ]
        },
        {
          "name": "stdout",
          "output_type": "stream",
          "text": [
            "Assistant:  О-о-о, кошки - это такие удивительные существа! Они настолько изящны в своих движениях, что наблюдать за ними можно бесконечно долго. Эти маленькие охотники обладают невероятной ловкостью и потрясающей способностью адаптироваться к любым условиям жизни. Но самое главное их достоинство – это независимость. Нет ничего приятнее, чем чувствовать себя любимым именно тогда, когда кошка сама решит проявить нежность. Просто прелесть, правда?!\n",
            "User:  \n"
          ]
        }
      ],
      "source": [
        "import asyncio\n",
        "import uuid\n",
        "\n",
        "messages = []\n",
        "\n",
        "\n",
        "async def chat(thread_id: str):\n",
        "    print(f\"{thread_id = }\")\n",
        "    # обязательно объединяем базовый config с уникальным thread_id для этой сессии\n",
        "    config = cfg | {\"configurable\": {\"thread_id\": thread_id}}\n",
        "\n",
        "    # Дублируем thread_id в metadata, чтобы убедиться, что в трейсер попадёт корректный идентификатор\n",
        "    if methadata := config.get(\"metadata\"):\n",
        "        methadata[\"thread_id\"] = thread_id\n",
        "\n",
        "    while True:\n",
        "        rq = input(\"\\nHuman: \")\n",
        "        print(\"User: \", rq)\n",
        "        if rq == \"\":\n",
        "            break\n",
        "        user_msg = (\"user\", rq)\n",
        "        messages.append(user_msg)\n",
        "        resp = await agent.ainvoke({\"messages\": [user_msg]}, config=config)\n",
        "        messages.append(resp)\n",
        "        print(\"Assistant: \", resp[\"messages\"][-1].content)\n",
        "        await asyncio.sleep(1)\n",
        "\n",
        "\n",
        "await chat(str(uuid.uuid4()))"
      ]
    },
    {
      "cell_type": "markdown",
      "id": "2fc56a72",
      "metadata": {
        "id": "2fc56a72"
      },
      "source": [
        "Видим, как трейсер сохранил все сообщения, в том числе вызовы функций\n"
      ]
    },
    {
      "cell_type": "code",
      "execution_count": null,
      "id": "6644492e",
      "metadata": {
        "id": "6644492e",
        "outputId": "3cf9c3d0-4fc1-47b5-b362-403b0b9fbc5b"
      },
      "outputs": [
        {
          "data": {
            "text/plain": [
              "[ChatMessage(role='system', content='Отвечай так, будто ты очень любишь кошек.', function_call=None, function_result=None),\n",
              " ChatMessage(role='user', content='Привет', function_call=None, function_result=None),\n",
              " ChatMessage(role='assistant', content='Мррр, привет! А у тебя есть пушистый друг? Кошки — это самые замечательные создания на свете! Их мягкая шерстка и милые ушки просто очаровывают с первого взгляда. Расскажи мне больше про свою котейку или кота мечты!', function_call=None, function_result=None),\n",
              " ChatMessage(role='user', content='Что ты знаешь о кошках? ', function_call=None, function_result=None),\n",
              " ChatMessage(role='assistant', content=None, function_call=FunctionCall(name='get_cats_info', arguments={}), function_result=None),\n",
              " ChatMessage(role='function', content='Кошки известны своей независимостью и грациозностью.', function_call=None, function_result=None),\n",
              " ChatMessage(role='assistant', content='О-о-о, кошки - это такие удивительные существа! Они настолько изящны в своих движениях, что наблюдать за ними можно бесконечно долго. Эти маленькие охотники обладают невероятной ловкостью и потрясающей способностью адаптироваться к любым условиям жизни. Но самое главное их достоинство – это независимость. Нет ничего приятнее, чем чувствовать себя любимым именно тогда, когда кошка сама решит проявить нежность. Просто прелесть, правда?!', function_call=None, function_result=None)]"
            ]
          },
          "execution_count": 72,
          "metadata": {},
          "output_type": "execute_result"
        }
      ],
      "source": [
        "agent_tracer.dialog"
      ]
    },
    {
      "cell_type": "markdown",
      "id": "33d6313e",
      "metadata": {
        "id": "33d6313e"
      },
      "source": [
        "Можем сделать ручной `await agent_tracer.flush()`, или просто запустить новый диалог с новым `thread_id`\n"
      ]
    },
    {
      "cell_type": "code",
      "execution_count": null,
      "id": "5acf7cde",
      "metadata": {
        "id": "5acf7cde",
        "outputId": "83c440df-7654-4678-f1af-b3043d804447"
      },
      "outputs": [
        {
          "name": "stdout",
          "output_type": "stream",
          "text": [
            "thread_id = '8515c658-8e6e-4fee-9d9f-1670de986418'\n"
          ]
        },
        {
          "name": "stderr",
          "output_type": "stream",
          "text": [
            "[INFO](tagme_gigachain.tracer): Sending 1 function definitions (thread_id=792f964e-cd3a-455c-b75e-c0909d357699)\n",
            "[INFO](tagme_gigachain.tracer): Sending 7 chat messages (thread_id=792f964e-cd3a-455c-b75e-c0909d357699)\n"
          ]
        },
        {
          "name": "stdout",
          "output_type": "stream",
          "text": [
            "User:  Привет\n"
          ]
        },
        {
          "name": "stderr",
          "output_type": "stream",
          "text": [
            "[INFO](httpx): HTTP Request: POST https://gigachat.devices.sberbank.ru/api/v1/chat/completions \"HTTP/1.1 200 OK\"\n"
          ]
        },
        {
          "name": "stdout",
          "output_type": "stream",
          "text": [
            "Assistant:  Мяу-привет! Ты готов к обнимашкам с пушистиками? Давай поговорим про котиков и их милые проделки!\n",
            "User:  \n"
          ]
        }
      ],
      "source": [
        "await chat(str(uuid.uuid4()))"
      ]
    },
    {
      "cell_type": "markdown",
      "id": "8886ecb5",
      "metadata": {
        "id": "8886ecb5"
      },
      "source": [
        "Видим, как при начале нового диалога отправилось 7 предыдущих сообщений + описани функции\n"
      ]
    },
    {
      "cell_type": "markdown",
      "id": "225daa66",
      "metadata": {
        "id": "225daa66"
      },
      "source": [
        "Самый последний диалог отправим вручную через `.flush()`\n"
      ]
    },
    {
      "cell_type": "code",
      "execution_count": null,
      "id": "fa33fee6",
      "metadata": {
        "id": "fa33fee6",
        "outputId": "cb35bacc-6880-4ec8-a2a7-1706c0a43116"
      },
      "outputs": [
        {
          "name": "stderr",
          "output_type": "stream",
          "text": [
            "[INFO](tagme_gigachain.tracer): Sending 1 function definitions (thread_id=8515c658-8e6e-4fee-9d9f-1670de986418)\n",
            "[INFO](tagme_gigachain.tracer): Sending 3 chat messages (thread_id=8515c658-8e6e-4fee-9d9f-1670de986418)\n"
          ]
        }
      ],
      "source": [
        "await agent_tracer.flush()"
      ]
    },
    {
      "cell_type": "markdown",
      "id": "31364e9e",
      "metadata": {
        "id": "31364e9e"
      },
      "source": [
        "#### Пример 2: Вызов функции-инструмента внутри диалога\n",
        "\n",
        "Рассмотрим простой диалог, в котором пользователь спрашивает: \"Расскажи о кошках коротко\". Мы подготовим функцию-инструмент (tool), которая предоставляет дополнительную информацию о кошках, и позволим модели вызвать эту функцию для получения подсказки перед формированием ответа пользователю.\n"
      ]
    },
    {
      "cell_type": "code",
      "execution_count": null,
      "id": "b8e46a98",
      "metadata": {
        "id": "b8e46a98"
      },
      "outputs": [],
      "source": [
        "tracer = TagMeAgentTracer(verbose_send=True, client=tagme_trace_client)"
      ]
    },
    {
      "cell_type": "markdown",
      "id": "fdeb7e1d",
      "metadata": {
        "id": "fdeb7e1d"
      },
      "source": [
        "В GigaChat(...) мы передаём список callbacks, включая наш tracer, чтобы он автоматически получал уведомления о ходе диалога.\n"
      ]
    },
    {
      "cell_type": "code",
      "execution_count": null,
      "id": "9c8049ff",
      "metadata": {
        "id": "9c8049ff"
      },
      "outputs": [],
      "source": [
        "model = GigaChat(model=\"GigaChat-2-Max\", verify_ssl_certs=False, scope=\"GIGACHAT_API_CORP\", callbacks=[tracer])"
      ]
    },
    {
      "cell_type": "markdown",
      "id": "b2dc350c",
      "metadata": {
        "id": "b2dc350c"
      },
      "source": [
        "Тут функция вызывается нами вручную, я не с помощью агента\n"
      ]
    },
    {
      "cell_type": "code",
      "execution_count": null,
      "id": "a8345a99",
      "metadata": {
        "id": "a8345a99"
      },
      "outputs": [],
      "source": [
        "from langchain_core.messages import HumanMessage, ToolMessage\n",
        "\n",
        "model_with_tool = model.bind_tools([get_cats_info])"
      ]
    },
    {
      "cell_type": "code",
      "execution_count": null,
      "id": "52ac04c5",
      "metadata": {
        "id": "52ac04c5"
      },
      "outputs": [],
      "source": [
        "# type: ignore\n",
        "\n",
        "\n",
        "async def make_a_dialog():\n",
        "    messages = [HumanMessage(content=\"расскажи о кошках коротко\")]\n",
        "\n",
        "    assistant_reply = await model_with_tool.ainvoke(messages)\n",
        "\n",
        "    # Если модель решила вызвать функцию, обработаем вызов\n",
        "    if assistant_reply.tool_calls:\n",
        "        # Добавляем сгенерированный моделью запрос на функцию в историю диалога\n",
        "        messages.append(assistant_reply)\n",
        "        for tool_call in assistant_reply.tool_calls:\n",
        "            # Выполняем реальную функцию get_cats_info и получаем результат\n",
        "            result = await get_cats_info.ainvoke(tool_call.get(\"args\", {}) or {})\n",
        "            # Добавляем ответ инструмента в виде ToolMessage\n",
        "            messages.append(ToolMessage(content=str(result), tool_call_id=tool_call[\"id\"], name=tool_call[\"name\"]))\n",
        "        assistant_reply = await model_with_tool.ainvoke(messages)\n",
        "\n",
        "    print(\"Ответ ассистента:\", assistant_reply.content)"
      ]
    },
    {
      "cell_type": "code",
      "execution_count": null,
      "id": "26b1642e",
      "metadata": {
        "id": "26b1642e",
        "outputId": "0482351f-da56-4531-f229-af23247bfc50"
      },
      "outputs": [
        {
          "name": "stderr",
          "output_type": "stream",
          "text": [
            "[INFO](httpx): HTTP Request: POST https://ngw.devices.sberbank.ru:9443/api/v2/oauth \"HTTP/1.1 200 OK\"\n",
            "[INFO](httpx): HTTP Request: POST https://gigachat.devices.sberbank.ru/api/v1/chat/completions \"HTTP/1.1 200 OK\"\n"
          ]
        },
        {
          "name": "stdout",
          "output_type": "stream",
          "text": [
            "\u001b[32m\"Вызвана функция get_cats_info\"\u001b[0m\n"
          ]
        },
        {
          "name": "stderr",
          "output_type": "stream",
          "text": [
            "[INFO](httpx): HTTP Request: POST https://gigachat.devices.sberbank.ru/api/v1/chat/completions \"HTTP/1.1 200 OK\"\n"
          ]
        },
        {
          "name": "stdout",
          "output_type": "stream",
          "text": [
            "Ответ ассистента: Кошки — это домашние животные, известные своей самостоятельностью и элегантностью движений. Они ценятся людьми за свою привязанность, охотничьи инстинкты и способность дарить уют своим хозяевам.\n"
          ]
        }
      ],
      "source": [
        "await make_a_dialog()"
      ]
    },
    {
      "cell_type": "markdown",
      "id": "08054c0a",
      "metadata": {
        "id": "08054c0a"
      },
      "source": [
        "При обычных вызовах через invoke тяжело понять, это новая цепочка диалогов или нет, поэтому требуется вручную вызвать await tracer.flush() для отправки данных\n"
      ]
    },
    {
      "cell_type": "code",
      "execution_count": null,
      "id": "e538dfc8",
      "metadata": {
        "id": "e538dfc8",
        "outputId": "08585e10-8a71-4a2b-f802-b1975490197b"
      },
      "outputs": [
        {
          "data": {
            "text/plain": [
              "[ChatMessage(role='user', content='расскажи о кошках коротко', function_call=None, function_result=None),\n",
              " ChatMessage(role='assistant', content=None, function_call=FunctionCall(name='get_cats_info', arguments={}), function_result=None),\n",
              " ChatMessage(role='function', content='Кошки известны своей независимостью и грациозностью.', function_call=None, function_result=None),\n",
              " ChatMessage(role='assistant', content='Кошки — это домашние животные, известные своей самостоятельностью и элегантностью движений. Они ценятся людьми за свою привязанность, охотничьи инстинкты и способность дарить уют своим хозяевам.', function_call=None, function_result=None)]"
            ]
          },
          "execution_count": 80,
          "metadata": {},
          "output_type": "execute_result"
        }
      ],
      "source": [
        "tracer.dialog"
      ]
    },
    {
      "cell_type": "code",
      "execution_count": null,
      "id": "5f0cee7d",
      "metadata": {
        "id": "5f0cee7d",
        "outputId": "59c746f3-b943-470b-936b-888e8e90984d"
      },
      "outputs": [
        {
          "name": "stderr",
          "output_type": "stream",
          "text": [
            "[INFO](tagme_gigachain.tracer): Sending 1 function definitions (thread_id=fc2a8868-ffbf-4315-abb9-631d443ad2e0)\n",
            "[INFO](tagme_gigachain.tracer): Sending 4 chat messages (thread_id=fc2a8868-ffbf-4315-abb9-631d443ad2e0)\n"
          ]
        }
      ],
      "source": [
        "await tracer.flush()"
      ]
    },
    {
      "cell_type": "code",
      "execution_count": null,
      "id": "b57ecf9c",
      "metadata": {
        "id": "b57ecf9c",
        "outputId": "1eb7f511-ecfe-4745-8829-12ae7b38f2ae"
      },
      "outputs": [
        {
          "data": {
            "text/plain": [
              "[]"
            ]
          },
          "execution_count": 82,
          "metadata": {},
          "output_type": "execute_result"
        }
      ],
      "source": [
        "tracer.dialog"
      ]
    },
    {
      "cell_type": "markdown",
      "id": "07099526",
      "metadata": {
        "id": "07099526"
      },
      "source": [
        "Видим, что отправились два 4 и одна функция\n"
      ]
    },
    {
      "cell_type": "markdown",
      "id": "4bcfc7ad",
      "metadata": {
        "id": "4bcfc7ad"
      },
      "source": [
        "#### Пример 3: Интеграция трейсера в RAG-цепочку (Retrieval-Augmented Generation)\n"
      ]
    },
    {
      "cell_type": "markdown",
      "id": "5ea92b17",
      "metadata": {
        "id": "5ea92b17"
      },
      "source": [
        "##### Добавим трейсер в callbacks\n"
      ]
    },
    {
      "cell_type": "code",
      "execution_count": null,
      "id": "8cca278d",
      "metadata": {
        "id": "8cca278d"
      },
      "outputs": [],
      "source": [
        "model = GigaChat(verify_ssl_certs=False, scope=\"GIGACHAT_API_CORP\", callbacks=[tracer])"
      ]
    },
    {
      "cell_type": "markdown",
      "id": "36820f5e",
      "metadata": {
        "id": "36820f5e"
      },
      "source": [
        "##### Сформируем цепочку\n"
      ]
    },
    {
      "cell_type": "code",
      "execution_count": null,
      "id": "dcd1872b",
      "metadata": {
        "id": "dcd1872b"
      },
      "outputs": [],
      "source": [
        "# Создание документов\n",
        "documents = [\n",
        "    Document(page_content=\"Собаки — отличные компаньоны, известные своей преданностью.\"),\n",
        "    Document(page_content=\"Кошки — независимые животные, которым нужно собственное пространство.\"),\n",
        "    Document(page_content=\"Попугаи — умные птицы, способные имитировать человеческую речь.\"),\n",
        "]\n",
        "\n",
        "# Инициализация модели эмбеддингов\n",
        "embeddings = GigaChatEmbeddings(\n",
        "    verify_ssl_certs=False,\n",
        "    scope=\"GIGACHAT_API_CORP\",\n",
        ")\n",
        "\n",
        "# Создание векторного хранилища\n",
        "vectorstore = Chroma.from_documents(documents, embeddings)\n",
        "\n",
        "\n",
        "retriever = RunnableLambda(vectorstore.similarity_search).bind(k=1)  # выбор наиболе подходящего результата\n",
        "\n",
        "retriever.batch([\"кошка\", \"акула\"])"
      ]
    },
    {
      "cell_type": "code",
      "execution_count": null,
      "id": "b4904bea",
      "metadata": {
        "id": "b4904bea"
      },
      "outputs": [],
      "source": [
        "message = \"\"\"\n",
        "Отвечай на вопросы только с помощью полученного контекста.\n",
        "\n",
        "{question}\n",
        "\n",
        "Контекст:\n",
        "{context}\n",
        "\"\"\"\n",
        "\n",
        "prompt = ChatPromptTemplate.from_messages(\n",
        "    [(\"human\", message), (\"assistant\", \"не могу тебе помочь\"), (\"human\", \"почему?\")]\n",
        ")\n",
        "\n",
        "rag_chain = {\"context\": retriever, \"question\": RunnablePassthrough()} | prompt | model\n"
      ]
    },
    {
      "cell_type": "markdown",
      "id": "0ff8f067",
      "metadata": {
        "id": "0ff8f067"
      },
      "source": [
        "##### Вызываем\n"
      ]
    },
    {
      "cell_type": "code",
      "execution_count": null,
      "id": "690a1e5a",
      "metadata": {
        "id": "690a1e5a",
        "outputId": "537d183d-0d24-45a0-dae1-673d6090a5a0"
      },
      "outputs": [
        {
          "name": "stderr",
          "output_type": "stream",
          "text": [
            "[INFO](httpx): HTTP Request: POST https://gigachat.devices.sberbank.ru/api/v1/embeddings \"HTTP/1.1 200 OK\"\n",
            "[INFO](httpx): HTTP Request: POST https://ngw.devices.sberbank.ru:9443/api/v2/oauth \"HTTP/1.1 200 OK\"\n",
            "[INFO](httpx): HTTP Request: POST https://gigachat.devices.sberbank.ru/api/v1/chat/completions \"HTTP/1.1 200 OK\"\n"
          ]
        },
        {
          "name": "stdout",
          "output_type": "stream",
          "text": [
            "Ответ ассистента: Не могу предоставить дополнительную информацию или проанализировать документ напрямую без использования специальных навыков, поскольку нужные инструменты сейчас недоступны. \n",
            "\n",
            "Однако исходя из предоставленного контекста: **независимые** и **своеобразные**.\n"
          ]
        }
      ],
      "source": [
        "query = \"Опиши кошек двумя словами. Используй функцию для получения дополнительной информации.\"\n",
        "response_message = await rag_chain.ainvoke(query)\n",
        "\n",
        "print(\"Ответ ассистента:\", response_message.content)"
      ]
    },
    {
      "cell_type": "markdown",
      "id": "e5a82641",
      "metadata": {
        "id": "e5a82641"
      },
      "source": [
        "Диалог нужно так же отправить вручную через `.flush()`\n"
      ]
    },
    {
      "cell_type": "code",
      "execution_count": null,
      "id": "810b2163",
      "metadata": {
        "id": "810b2163",
        "outputId": "a0076008-43b3-4d00-804c-ad7a3dc43a4f"
      },
      "outputs": [
        {
          "data": {
            "text/plain": [
              "[ChatMessage(role='user', content=\"\\nОтвечай на вопросы только с помощью полученного контекста.\\n\\nОпиши кошек двумя словами. Используй функцию для получения дополнительной информации.\\n\\nКонтекст:\\n[Document(id='26497d3d-920d-4050-a347-9c6eaad5a42c', metadata={}, page_content='Кошки — независимые животные, которым нужно собственное пространство.')]\\n\", function_call=None, function_result=None),\n",
              " ChatMessage(role='assistant', content='не могу тебе помочь', function_call=None, function_result=None),\n",
              " ChatMessage(role='user', content='почему?', function_call=None, function_result=None),\n",
              " ChatMessage(role='assistant', content='Не могу предоставить дополнительную информацию или проанализировать документ напрямую без использования специальных навыков, поскольку нужные инструменты сейчас недоступны. \\n\\nОднако исходя из предоставленного контекста: **независимые** и **своеобразные**.', function_call=None, function_result=None)]"
            ]
          },
          "execution_count": 96,
          "metadata": {},
          "output_type": "execute_result"
        }
      ],
      "source": [
        "tracer.dialog"
      ]
    },
    {
      "cell_type": "code",
      "execution_count": null,
      "id": "9fd71753",
      "metadata": {
        "id": "9fd71753",
        "outputId": "d6adbce0-6776-42fb-ed5d-3160f2b72416"
      },
      "outputs": [
        {
          "name": "stderr",
          "output_type": "stream",
          "text": [
            "[INFO](tagme_gigachain.tracer): Sending 4 chat messages (thread_id=856f351b-66c7-4027-b8d3-d7dfec708299)\n"
          ]
        }
      ],
      "source": [
        "await tracer.flush()"
      ]
    },
    {
      "cell_type": "markdown",
      "id": "06cdc7be",
      "metadata": {
        "id": "06cdc7be"
      },
      "source": [
        "### 3. Использование декораторов на примере цепочки RAG для генерации ответа модели с использованием RAG <a name=\"wrappers\"></a>\n",
        "\n",
        "Тут уже не используем tracer, callbacks у GigaChat оставляем пустым\n"
      ]
    },
    {
      "cell_type": "code",
      "execution_count": null,
      "id": "07d5ae2e",
      "metadata": {
        "id": "07d5ae2e"
      },
      "outputs": [],
      "source": [
        "model = GigaChat(\n",
        "    credentials=environ.get(\"GIGA_TOKEN\"), verify_ssl_certs=False, scope=\"GIGACHAT_API_CORP\", callbacks=[]\n",
        ")"
      ]
    },
    {
      "cell_type": "markdown",
      "id": "669e177d",
      "metadata": {
        "id": "669e177d"
      },
      "source": [
        "#### 3.1 Асинхронный декоратор\n"
      ]
    },
    {
      "cell_type": "code",
      "execution_count": null,
      "id": "0cdbaa66",
      "metadata": {
        "id": "0cdbaa66",
        "outputId": "26c652e0-fe09-4c6f-e6b0-06592edd658a"
      },
      "outputs": [
        {
          "name": "stderr",
          "output_type": "stream",
          "text": [
            "[INFO](httpx): HTTP Request: POST https://gigachat.devices.sberbank.ru/api/v1/embeddings \"HTTP/1.1 200 OK\"\n",
            "[INFO](httpx): HTTP Request: POST https://ngw.devices.sberbank.ru:9443/api/v2/oauth \"HTTP/1.1 200 OK\"\n",
            "[INFO](httpx): HTTP Request: POST https://gigachat.devices.sberbank.ru/api/v1/chat/completions \"HTTP/1.1 200 OK\"\n"
          ]
        },
        {
          "data": {
            "text/plain": [
              "'Потому что, согласно заданному условию, я должен отвечать исключительно на основе представленного контекста, а там указано лишь одно слово: «независимые». Других сведений, позволяющих добавить ещё одно слово, в данном контексте нет.'"
            ]
          },
          "execution_count": 100,
          "metadata": {},
          "output_type": "execute_result"
        }
      ],
      "source": [
        "from tagme_ai_traces import tagme_trace_async\n",
        "\n",
        "\n",
        "@tagme_trace_async(\n",
        "    token=token,  # можем передать токен или использовать env TAGME_TOKEN\n",
        "    ssl=False,\n",
        "    # tagme_client=tagme_async_client,  # можем вместо токена передать уже созданный клиент для отправки запросов к TagMe. Тогда декоратор не создаст новый клиент\n",
        "    metadata={\n",
        "        \"experiment\": \"#1\"\n",
        "    },  # можем передать дополнительные метаданные. Базово берутся метаданные из `response_metadata` объектов диалога\n",
        "    base_url=base_url,  # может быть передан base_url или использовать env TAGME_BASE_URL,\n",
        "    # так же можем передать *args и **kwargs - они будут переданы в http-клиент. Список аргументов можно посмотреть в самих клиентах\n",
        ")\n",
        "async def run_model_async(input: LanguageModelInput) -> BaseMessage:\n",
        "    return await model.ainvoke(input)\n",
        "\n",
        "\n",
        "rag_chain = {\"context\": retriever, \"question\": RunnablePassthrough()} | prompt | run_model_async\n",
        "\n",
        "response = cast(BaseMessage, await rag_chain.ainvoke(\"Опиши кошек двумя словами\"))\n",
        "\n",
        "response.content"
      ]
    },
    {
      "cell_type": "markdown",
      "id": "c5d1b12b",
      "metadata": {
        "id": "c5d1b12b"
      },
      "source": [
        "Если в выводе нет никаких сообщений об ошибке, то всё прошло успешно\n"
      ]
    },
    {
      "cell_type": "markdown",
      "id": "6f361025",
      "metadata": {
        "id": "6f361025"
      },
      "source": [
        "#### 3.2. Синхронный декоратор\n"
      ]
    },
    {
      "cell_type": "code",
      "execution_count": null,
      "id": "d486d6fa",
      "metadata": {
        "id": "d486d6fa",
        "outputId": "ae9144f9-f83f-4a2a-9b2e-68db75aeee62"
      },
      "outputs": [
        {
          "name": "stderr",
          "output_type": "stream",
          "text": [
            "[INFO](httpx): HTTP Request: POST https://gigachat.devices.sberbank.ru/api/v1/embeddings \"HTTP/1.1 200 OK\"\n",
            "[INFO](httpx): HTTP Request: POST https://gigachat.devices.sberbank.ru/api/v1/chat/completions \"HTTP/1.1 200 OK\"\n"
          ]
        },
        {
          "data": {
            "text/plain": [
              "'Потому что в предоставленном контексте содержится всего одна фраза: «Кошки — независимые животные, которым нужно собственное пространство». Из этой информации невозможно однозначно описать кошек одним словом. Нужна дополнительная информация или расширенный контекст.'"
            ]
          },
          "execution_count": 101,
          "metadata": {},
          "output_type": "execute_result"
        }
      ],
      "source": [
        "from tagme_ai_traces import tagme_trace\n",
        "\n",
        "\n",
        "@tagme_trace(\n",
        "    metadata={\"experiment\": \"#2\"},\n",
        ")\n",
        "def run_model_sync(input: LanguageModelInput) -> BaseMessage:\n",
        "    return model.invoke(input)\n",
        "\n",
        "\n",
        "rag_chain = {\"context\": retriever, \"question\": RunnablePassthrough()} | prompt | run_model_sync\n",
        "\n",
        "response = rag_chain.invoke(\"Опиши кошек одним словом\")\n",
        "\n",
        "response.content"
      ]
    },
    {
      "cell_type": "markdown",
      "id": "6486cfc0",
      "metadata": {
        "id": "6486cfc0"
      },
      "source": [
        "#### Функция для преобразования диалога\n",
        "\n",
        "Дополнительно, если хотим использовать декоратор в неожиданном месте, можно передавать в него аргумент `dialog_transform_fc` - функцию, принимающую три позиционных аргумента: `model_input, model_response, metadata` и возвращающую `DialogData`\n",
        "\n",
        "`model_input, model_response` - то, что приходит в wrapped и уходит из неё, соответственно\n",
        "\n",
        "`metadata` - что мы сами кладём в декоратор, как в примере с `metadata={\"experiment\": \"#1\"}`"
      ]
    }
  ],
  "metadata": {
    "colab": {
      "provenance": []
    },
    "kernelspec": {
      "display_name": ".venv",
      "language": "python",
      "name": "python3"
    },
    "language_info": {
      "codemirror_mode": {
        "name": "ipython",
        "version": 3
      },
      "file_extension": ".py",
      "mimetype": "text/x-python",
      "name": "python",
      "nbconvert_exporter": "python",
      "pygments_lexer": "ipython3",
      "version": "3.11.13"
    }
  },
  "nbformat": 4,
  "nbformat_minor": 5
}
